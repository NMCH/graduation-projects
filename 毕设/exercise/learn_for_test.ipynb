{
 "cells": [
  {
   "cell_type": "code",
   "execution_count": 2,
   "metadata": {},
   "outputs": [],
   "source": [
    "import tensorflow as tf\n",
    "import numpy as np\n",
    "#酸奶成本1元，酸奶利润9元\n",
    "#预测少了损失大，故不要预测少\n",
    "\n",
    "#0导入模块，生成数据集\n",
    "BATCH_SIZE=8\n",
    "SEED=23455\n",
    "#COST=1\n",
    "#PROFIT=9"
   ]
  },
  {
   "cell_type": "code",
   "execution_count": 21,
   "metadata": {},
   "outputs": [
    {
     "data": {
      "text/plain": [
       "array([0.66899751, 0.46594987])"
      ]
     },
     "execution_count": 21,
     "metadata": {},
     "output_type": "execute_result"
    }
   ],
   "source": [
    "rdm=np.random.RandomState(SEED)\n",
    "X=rdm.rand(32,2)\n",
    "Y_=[[x1+x2+(rdm.rand()/10.0-0.05)] for (x1,x2) in X]"
   ]
  },
  {
   "cell_type": "code",
   "execution_count": null,
   "metadata": {},
   "outputs": [],
   "source": [
    "#1定义神经网络的输入，参数和输出，定义前向传播过程\n",
    "x=tf.placeholder(tf.float32,shape=(None,2))\n",
    "y_=tf.placeholder(tf.float32,shape=(None,1))\n",
    "w1=tf.Variable(tf.random_normal([2,1],stddev=1,seed=1))\n",
    "y=tf.matmul(x,w1)"
   ]
  },
  {
   "cell_type": "code",
   "execution_count": null,
   "metadata": {},
   "outputs": [],
   "source": [
    "#2定义损失函数及反向传播方法\n",
    "#定义损失函数为MSE，反向传播方法为梯度下降\n",
    "loss_mse=tf.reduce_mean(tf.square(y_-y))\n",
    "train_step=tf.train.GradientDescentOptimizer(0.001).minimize(loss_mse)"
   ]
  },
  {
   "cell_type": "code",
   "execution_count": null,
   "metadata": {},
   "outputs": [],
   "source": [
    "#生成会话，训练STEPS轮\n",
    "with tf.Session() as sess:\n",
    "    init_op=tf.global_variables_initializer()\n",
    "    sess.run(init_op)\n",
    "    STEPS=20000\n",
    "    for i in range(STEPS):\n",
    "        start = (i*BATCH_SIZE) % 32\n",
    "        end= (i*BATCH_SIZE) % 32+BATCH_SIZE\n",
    "        sess.run(train_step,feed_dict={x:X[start:end],y_:Y_[start:end]})\n",
    "        if i%500==0:\n",
    "            print('After {} training steps,w1 is:'.format(i))\n",
    "            print(sess.run(w1),\"\\n\")\n",
    "    print('Final w1 is \\n',sess.run(w1))\n"
   ]
  }
 ],
 "metadata": {
  "kernelspec": {
   "display_name": "Python 3",
   "language": "python",
   "name": "python3"
  },
  "language_info": {
   "codemirror_mode": {
    "name": "ipython",
    "version": 3
   },
   "file_extension": ".py",
   "mimetype": "text/x-python",
   "name": "python",
   "nbconvert_exporter": "python",
   "pygments_lexer": "ipython3",
   "version": "3.7.3"
  }
 },
 "nbformat": 4,
 "nbformat_minor": 2
}
